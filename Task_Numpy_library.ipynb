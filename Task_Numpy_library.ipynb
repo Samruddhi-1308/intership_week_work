{
 "cells": [
  {
   "cell_type": "code",
   "execution_count": 1,
   "id": "6d9bfe99-260a-4b49-a32d-8fa2e1533817",
   "metadata": {},
   "outputs": [
    {
     "name": "stdout",
     "output_type": "stream",
     "text": [
      "Requirement already satisfied: numpy in d:\\anaconda\\lib\\site-packages (1.26.4)\n"
     ]
    }
   ],
   "source": [
    "!pip install numpy"
   ]
  },
  {
   "cell_type": "code",
   "execution_count": 2,
   "id": "ae91312b-0038-463d-95b2-b02e24432cf8",
   "metadata": {},
   "outputs": [],
   "source": [
    "import numpy as np"
   ]
  },
  {
   "cell_type": "code",
   "execution_count": 4,
   "id": "7a2884c9-e0bb-438a-9095-78e2e5892913",
   "metadata": {},
   "outputs": [
    {
     "name": "stdout",
     "output_type": "stream",
     "text": [
      "[10 20 30 40]\n",
      "<class 'numpy.ndarray'>\n"
     ]
    }
   ],
   "source": [
    "arr = np.array([10,20,30,40])\n",
    "print(arr)\n",
    "\n",
    "#array type\n",
    "print(type(arr))"
   ]
  },
  {
   "cell_type": "code",
   "execution_count": 12,
   "id": "26215f9b-3faf-480f-a332-cf4c23fd9b37",
   "metadata": {},
   "outputs": [
    {
     "name": "stdout",
     "output_type": "stream",
     "text": [
      "1d array: [1 2 3 4]\n",
      " 2d array : [[ 5  6  7]\n",
      " [ 8  9 10]]\n",
      " 3d array : [[[9 8 7]\n",
      "  [6 5 4]\n",
      "  [3 2 1]]]\n"
     ]
    }
   ],
   "source": [
    "# types of array\n",
    "\n",
    "# 1D array\n",
    "arr1 = np.array([1,2,3,4])\n",
    "print(\"1d array:\",arr1)\n",
    "\n",
    "# 2D array\n",
    "arr2 = np.array([[5,6,7],\n",
    "                 [8,9,10]])\n",
    "print(\" 2d array :\",arr2)\n",
    "\n",
    "# 3d array\n",
    "arr3 = np.array([[[9,8,7],\n",
    "                  [6,5,4],\n",
    "                  [3,2,1]]])\n",
    "print(\" 3d array :\", arr3)"
   ]
  },
  {
   "cell_type": "code",
   "execution_count": 14,
   "id": "9d8d3d33-30f5-4b85-8500-926c15ab5853",
   "metadata": {},
   "outputs": [
    {
     "name": "stdout",
     "output_type": "stream",
     "text": [
      "(2, 3)\n"
     ]
    }
   ],
   "source": [
    "# shape of array\n",
    "\n",
    "arr = np.array([[5,6,7],\n",
    "                 [8,9,10]])\n",
    "print(arr.shape)"
   ]
  },
  {
   "cell_type": "code",
   "execution_count": 15,
   "id": "4ca7dbec-918c-451c-ab1e-a7d8781f27ca",
   "metadata": {},
   "outputs": [
    {
     "name": "stdout",
     "output_type": "stream",
     "text": [
      "6\n"
     ]
    }
   ],
   "source": [
    "# size of array\n",
    "print(arr.size)"
   ]
  },
  {
   "cell_type": "code",
   "execution_count": 16,
   "id": "70fbe630-ce49-49fe-b2bb-876039d5162a",
   "metadata": {},
   "outputs": [
    {
     "name": "stdout",
     "output_type": "stream",
     "text": [
      "[[ 1  2  3]\n",
      " [ 4  5  6]\n",
      " [ 7  8  9]\n",
      " [10 11 12]]\n"
     ]
    }
   ],
   "source": [
    "# reshapaing array\n",
    "arr = np.array([1,2,3,4,5,6,7,8,9,10,11,12])\n",
    "new_arr =arr.reshape(4,3)\n",
    "print(new_arr)\n",
    "\n"
   ]
  },
  {
   "cell_type": "code",
   "execution_count": 19,
   "id": "b397d36c-617e-490e-8c8c-e3dae16591c5",
   "metadata": {},
   "outputs": [
    {
     "name": "stdout",
     "output_type": "stream",
     "text": [
      "1\n",
      "2\n",
      "3\n",
      "4\n"
     ]
    }
   ],
   "source": [
    "# iterating array element\n",
    "\n",
    "arr= np.array([1,2,3,4])\n",
    "for i in arr:\n",
    "    print(i)"
   ]
  },
  {
   "cell_type": "code",
   "execution_count": 2,
   "id": "cbb0ff91-23ff-489b-bdd6-53eac8bfba77",
   "metadata": {},
   "outputs": [
    {
     "name": "stdout",
     "output_type": "stream",
     "text": [
      "[1 2 3 4 5 6]\n"
     ]
    }
   ],
   "source": [
    "#joining array\n",
    "import numpy as np\n",
    "\n",
    "arr1 = np.array([1,2,3])\n",
    "arr2 = np.array([4,5,6])\n",
    "array = np.concatenate([arr1,arr2])\n",
    "print(array)"
   ]
  },
  {
   "cell_type": "code",
   "execution_count": 3,
   "id": "06920f21-ac21-4aad-94ab-d9b06a4892b2",
   "metadata": {},
   "outputs": [
    {
     "name": "stdout",
     "output_type": "stream",
     "text": [
      "[array([1, 2]), array([3, 4]), array([5, 6])]\n"
     ]
    }
   ],
   "source": [
    "# spliting array\n",
    "\n",
    "arr = np.array([1,2,3,4,5,6])\n",
    "new_arr = np.split(arr,3)\n",
    "print(new_arr)"
   ]
  },
  {
   "cell_type": "code",
   "execution_count": 4,
   "id": "33cf85d1-daad-4f32-b371-d2e0f7467a4e",
   "metadata": {},
   "outputs": [
    {
     "name": "stdout",
     "output_type": "stream",
     "text": [
      "(array([1, 4, 6], dtype=int64),)\n"
     ]
    }
   ],
   "source": [
    "# searching array\n",
    "\n",
    "arr = np.array([1,4,2,3,4,5,4,6])\n",
    "new_arr = np.where(arr==4)\n",
    "print(new_arr)\n"
   ]
  },
  {
   "cell_type": "code",
   "execution_count": 8,
   "id": "f6475b81-2299-4f71-b842-aa0172112bc7",
   "metadata": {},
   "outputs": [
    {
     "name": "stdout",
     "output_type": "stream",
     "text": [
      "[1 2 3 5 6]\n",
      "[6 5 3 2 1]\n"
     ]
    }
   ],
   "source": [
    "# sorting array\n",
    "\n",
    "arr = np.array([3,1,5,6,2])\n",
    "\n",
    "# ascending order\n",
    "print(np.sort(arr))\n",
    "\n",
    "# dscending order\n",
    "print(np.sort(arr)[: :-1])"
   ]
  },
  {
   "cell_type": "code",
   "execution_count": 10,
   "id": "33bde20c-688b-4626-86af-bb8b880d54e9",
   "metadata": {},
   "outputs": [
    {
     "name": "stdout",
     "output_type": "stream",
     "text": [
      "[False, False, False, True]\n",
      "[40]\n"
     ]
    }
   ],
   "source": [
    "# create empty list\n",
    "\n",
    "arr = np.array([10,20,30,40])\n",
    "filter_arr = []\n",
    "\n",
    "# go through each element in array\n",
    "for element in arr:\n",
    "\n",
    "    if element >35:\n",
    "        filter_arr.append(True)\n",
    "\n",
    "    else:\n",
    "        filter_arr.append(False)\n",
    "\n",
    "\n",
    "new_arr = arr[filter_arr]\n",
    "print(filter_arr)\n",
    "print(new_arr)\n"
   ]
  },
  {
   "cell_type": "code",
   "execution_count": 11,
   "id": "cf829395-a7e9-4c38-9223-95b23703adf4",
   "metadata": {},
   "outputs": [
    {
     "name": "stdout",
     "output_type": "stream",
     "text": [
      "['1' '2' '3' '4']\n"
     ]
    }
   ],
   "source": [
    "# converting of datatypes\n",
    "\n",
    "arr = np.array([1,2,3,4])\n",
    "print(arr.astype(str))"
   ]
  },
  {
   "cell_type": "code",
   "execution_count": 17,
   "id": "d0a802fe-7a74-412b-acc8-716d7733a429",
   "metadata": {},
   "outputs": [
    {
     "name": "stdout",
     "output_type": "stream",
     "text": [
      "orignal array: [1 2 3 4 5]\n",
      "[1 2 3 4 5 6]\n",
      "[ 1  2  3  4  5 44 55]\n",
      "[  1   2   3 100   4   5]\n",
      "[1 2 4 5]\n"
     ]
    }
   ],
   "source": [
    "#adding and removing element\n",
    "\n",
    "arr = np.array([1,2,3,4,5])\n",
    "print(\"orignal array:\",arr)\n",
    "\n",
    "# appending single element\n",
    "print(np.append(arr,6))\n",
    "\n",
    "# appending multiple element\n",
    "print(np.append(arr,[44,55]))\n",
    "\n",
    "# inserting specific element\n",
    "print(np.insert(arr,3,100))\n",
    "\n",
    "# deleting element\n",
    "print(np.delete(arr,2))        # using indexing "
   ]
  },
  {
   "cell_type": "code",
   "execution_count": 23,
   "id": "98e5b475-6c5b-4d32-b8c4-609569e316bc",
   "metadata": {},
   "outputs": [
    {
     "name": "stdout",
     "output_type": "stream",
     "text": [
      "array : [10 20 30 40 50]\n",
      "sum of array : 150\n",
      "min value : 10\n",
      "max value : 50\n",
      "cumsum : [ 10  30  60 100 150]\n"
     ]
    }
   ],
   "source": [
    "# aggregate function\n",
    "\n",
    "arr = np.array([10,20,30,40,50])\n",
    "print(\"array :\",arr)\n",
    "\n",
    "#sum\n",
    "print(\"sum of array :\",np.sum(arr))\n",
    "\n",
    "#Minimum\n",
    "print(\"min value :\",np.min(arr))\n",
    "\n",
    "#maximum\n",
    "print(\"max value :\",np.max(arr))\n",
    "\n",
    "#cumulative sum\n",
    "print(\"cumsum :\",np.cumsum(arr))"
   ]
  },
  {
   "cell_type": "code",
   "execution_count": 30,
   "id": "fbe2c292-d89c-432c-968c-44f0d6a5c6f8",
   "metadata": {},
   "outputs": [
    {
     "name": "stdout",
     "output_type": "stream",
     "text": [
      "mean : 285.7142857142857\n",
      "median : 300.0\n",
      "mode : 200\n",
      "standard deviation : 124.53996981544782\n"
     ]
    }
   ],
   "source": [
    "# statistical function\n",
    "\n",
    "import statistics as stats\n",
    "\n",
    "food_prices = [100,200,300,400,500,300,200]\n",
    "a = np.array(food_prices)\n",
    "\n",
    "# mean\n",
    "print(\"mean :\",np.mean(a))\n",
    "\n",
    "# median\n",
    "print(\"median :\",np.median(a))\n",
    "\n",
    "# mode\n",
    "print(\"mode :\",stats.mode(a))\n",
    "\n",
    "# SD\n",
    "print(\"standard deviation :\",np.std(a))"
   ]
  },
  {
   "cell_type": "code",
   "execution_count": null,
   "id": "9398b0a2-e4d7-4069-b0e4-e3b32281afdf",
   "metadata": {},
   "outputs": [],
   "source": []
  }
 ],
 "metadata": {
  "kernelspec": {
   "display_name": "Python 3 (ipykernel)",
   "language": "python",
   "name": "python3"
  },
  "language_info": {
   "codemirror_mode": {
    "name": "ipython",
    "version": 3
   },
   "file_extension": ".py",
   "mimetype": "text/x-python",
   "name": "python",
   "nbconvert_exporter": "python",
   "pygments_lexer": "ipython3",
   "version": "3.12.7"
  }
 },
 "nbformat": 4,
 "nbformat_minor": 5
}
