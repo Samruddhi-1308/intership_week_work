{
 "cells": [
  {
   "cell_type": "code",
   "execution_count": 1,
   "id": "6d9bfe99-260a-4b49-a32d-8fa2e1533817",
   "metadata": {},
   "outputs": [
    {
     "name": "stdout",
     "output_type": "stream",
     "text": [
      "Requirement already satisfied: numpy in d:\\anaconda\\lib\\site-packages (1.26.4)\n"
     ]
    }
   ],
   "source": [
    "!pip install numpy"
   ]
  },
  {
   "cell_type": "code",
   "execution_count": 2,
   "id": "ae91312b-0038-463d-95b2-b02e24432cf8",
   "metadata": {},
   "outputs": [],
   "source": [
    "import numpy as np"
   ]
  },
  {
   "cell_type": "code",
   "execution_count": 4,
   "id": "7a2884c9-e0bb-438a-9095-78e2e5892913",
   "metadata": {},
   "outputs": [
    {
     "name": "stdout",
     "output_type": "stream",
     "text": [
      "[10 20 30 40]\n",
      "<class 'numpy.ndarray'>\n"
     ]
    }
   ],
   "source": [
    "arr = np.array([10,20,30,40])\n",
    "print(arr)\n",
    "\n",
    "#array type\n",
    "print(type(arr))"
   ]
  },
  {
   "cell_type": "code",
   "execution_count": 12,
   "id": "26215f9b-3faf-480f-a332-cf4c23fd9b37",
   "metadata": {},
   "outputs": [
    {
     "name": "stdout",
     "output_type": "stream",
     "text": [
      "1d array: [1 2 3 4]\n",
      " 2d array : [[ 5  6  7]\n",
      " [ 8  9 10]]\n",
      " 3d array : [[[9 8 7]\n",
      "  [6 5 4]\n",
      "  [3 2 1]]]\n"
     ]
    }
   ],
   "source": [
    "# types of array\n",
    "\n",
    "# 1D array\n",
    "arr1 = np.array([1,2,3,4])\n",
    "print(\"1d array:\",arr1)\n",
    "\n",
    "# 2D array\n",
    "arr2 = np.array([[5,6,7],\n",
    "                 [8,9,10]])\n",
    "print(\" 2d array :\",arr2)\n",
    "\n",
    "# 3d array\n",
    "arr3 = np.array([[[9,8,7],\n",
    "                  [6,5,4],\n",
    "                  [3,2,1]]])\n",
    "print(\" 3d array :\", arr3)"
   ]
  },
  {
   "cell_type": "code",
   "execution_count": 14,
   "id": "9d8d3d33-30f5-4b85-8500-926c15ab5853",
   "metadata": {},
   "outputs": [
    {
     "name": "stdout",
     "output_type": "stream",
     "text": [
      "(2, 3)\n"
     ]
    }
   ],
   "source": [
    "# shape of array\n",
    "\n",
    "arr = np.array([[5,6,7],\n",
    "                 [8,9,10]])\n",
    "print(arr.shape)"
   ]
  },
  {
   "cell_type": "code",
   "execution_count": 15,
   "id": "4ca7dbec-918c-451c-ab1e-a7d8781f27ca",
   "metadata": {},
   "outputs": [
    {
     "name": "stdout",
     "output_type": "stream",
     "text": [
      "6\n"
     ]
    }
   ],
   "source": [
    "# size of array\n",
    "print(arr.size)"
   ]
  },
  {
   "cell_type": "code",
   "execution_count": 16,
   "id": "70fbe630-ce49-49fe-b2bb-876039d5162a",
   "metadata": {},
   "outputs": [
    {
     "name": "stdout",
     "output_type": "stream",
     "text": [
      "[[ 1  2  3]\n",
      " [ 4  5  6]\n",
      " [ 7  8  9]\n",
      " [10 11 12]]\n"
     ]
    }
   ],
   "source": [
    "# reshapaing array\n",
    "arr = np.array([1,2,3,4,5,6,7,8,9,10,11,12])\n",
    "new_arr =arr.reshape(4,3)\n",
    "print(new_arr)\n",
    "\n"
   ]
  },
  {
   "cell_type": "code",
   "execution_count": 19,
   "id": "b397d36c-617e-490e-8c8c-e3dae16591c5",
   "metadata": {},
   "outputs": [
    {
     "name": "stdout",
     "output_type": "stream",
     "text": [
      "1\n",
      "2\n",
      "3\n",
      "4\n"
     ]
    }
   ],
   "source": [
    "# iterating array element\n",
    "\n",
    "arr= np.array([1,2,3,4])\n",
    "for i in arr:\n",
    "    print(i)"
   ]
  },
  {
   "cell_type": "code",
   "execution_count": null,
   "id": "cbb0ff91-23ff-489b-bdd6-53eac8bfba77",
   "metadata": {},
   "outputs": [],
   "source": [
    "#"
   ]
  }
 ],
 "metadata": {
  "kernelspec": {
   "display_name": "Python 3 (ipykernel)",
   "language": "python",
   "name": "python3"
  },
  "language_info": {
   "codemirror_mode": {
    "name": "ipython",
    "version": 3
   },
   "file_extension": ".py",
   "mimetype": "text/x-python",
   "name": "python",
   "nbconvert_exporter": "python",
   "pygments_lexer": "ipython3",
   "version": "3.12.7"
  }
 },
 "nbformat": 4,
 "nbformat_minor": 5
}
