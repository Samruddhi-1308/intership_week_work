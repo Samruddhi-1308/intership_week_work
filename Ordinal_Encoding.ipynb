{
 "cells": [
  {
   "cell_type": "code",
   "execution_count": 1,
   "id": "c3740b30-3dfb-4235-aa24-ca939e854d50",
   "metadata": {},
   "outputs": [],
   "source": [
    "import pandas as pd"
   ]
  },
  {
   "cell_type": "code",
   "execution_count": 12,
   "id": "86da2bb8-6d25-4bd8-ba0e-59332aa13b55",
   "metadata": {},
   "outputs": [],
   "source": [
    "#Sample Data\n",
    "\n",
    "data={\n",
    "      'Customer_ID' : ['C001','C002','C003','C004','C005','C006','C007','C008'],\n",
    "      'Education_Level':['Masters','High_School','PHD','High_School','PHD','Bachelors','Masters','Bachelors'],\n",
    "      'Product_Quality':['Medium','Low','Medium','High','Low','High','Medium','Low'],\n",
    "      'Satisfaction_Level':['Average','Poor','Good','Excellent','Poor','Good','Average','Poor']\n",
    "     }"
   ]
  },
  {
   "cell_type": "code",
   "execution_count": 13,
   "id": "704bd7f3-5f5e-451a-87da-d54856e9b857",
   "metadata": {},
   "outputs": [
    {
     "data": {
      "text/html": [
       "<div>\n",
       "<style scoped>\n",
       "    .dataframe tbody tr th:only-of-type {\n",
       "        vertical-align: middle;\n",
       "    }\n",
       "\n",
       "    .dataframe tbody tr th {\n",
       "        vertical-align: top;\n",
       "    }\n",
       "\n",
       "    .dataframe thead th {\n",
       "        text-align: right;\n",
       "    }\n",
       "</style>\n",
       "<table border=\"1\" class=\"dataframe\">\n",
       "  <thead>\n",
       "    <tr style=\"text-align: right;\">\n",
       "      <th></th>\n",
       "      <th>Customer_ID</th>\n",
       "      <th>Education_Level</th>\n",
       "      <th>Product_Quality</th>\n",
       "      <th>Satisfaction_Level</th>\n",
       "    </tr>\n",
       "  </thead>\n",
       "  <tbody>\n",
       "    <tr>\n",
       "      <th>0</th>\n",
       "      <td>C001</td>\n",
       "      <td>Masters</td>\n",
       "      <td>Medium</td>\n",
       "      <td>Average</td>\n",
       "    </tr>\n",
       "    <tr>\n",
       "      <th>1</th>\n",
       "      <td>C002</td>\n",
       "      <td>High_School</td>\n",
       "      <td>Low</td>\n",
       "      <td>Poor</td>\n",
       "    </tr>\n",
       "    <tr>\n",
       "      <th>2</th>\n",
       "      <td>C003</td>\n",
       "      <td>PHD</td>\n",
       "      <td>Medium</td>\n",
       "      <td>Good</td>\n",
       "    </tr>\n",
       "    <tr>\n",
       "      <th>3</th>\n",
       "      <td>C004</td>\n",
       "      <td>High_School</td>\n",
       "      <td>High</td>\n",
       "      <td>Excellent</td>\n",
       "    </tr>\n",
       "    <tr>\n",
       "      <th>4</th>\n",
       "      <td>C005</td>\n",
       "      <td>PHD</td>\n",
       "      <td>Low</td>\n",
       "      <td>Poor</td>\n",
       "    </tr>\n",
       "    <tr>\n",
       "      <th>5</th>\n",
       "      <td>C006</td>\n",
       "      <td>Bachelors</td>\n",
       "      <td>High</td>\n",
       "      <td>Good</td>\n",
       "    </tr>\n",
       "    <tr>\n",
       "      <th>6</th>\n",
       "      <td>C007</td>\n",
       "      <td>Masters</td>\n",
       "      <td>Medium</td>\n",
       "      <td>Average</td>\n",
       "    </tr>\n",
       "    <tr>\n",
       "      <th>7</th>\n",
       "      <td>C008</td>\n",
       "      <td>Bachelors</td>\n",
       "      <td>Low</td>\n",
       "      <td>Poor</td>\n",
       "    </tr>\n",
       "  </tbody>\n",
       "</table>\n",
       "</div>"
      ],
      "text/plain": [
       "  Customer_ID Education_Level Product_Quality Satisfaction_Level\n",
       "0        C001         Masters          Medium            Average\n",
       "1        C002     High_School             Low               Poor\n",
       "2        C003             PHD          Medium               Good\n",
       "3        C004     High_School            High          Excellent\n",
       "4        C005             PHD             Low               Poor\n",
       "5        C006       Bachelors            High               Good\n",
       "6        C007         Masters          Medium            Average\n",
       "7        C008       Bachelors             Low               Poor"
      ]
     },
     "execution_count": 13,
     "metadata": {},
     "output_type": "execute_result"
    }
   ],
   "source": [
    "data=pd.DataFrame(data)\n",
    "data"
   ]
  },
  {
   "cell_type": "code",
   "execution_count": 14,
   "id": "93def493-07b6-411f-afad-2dae15deb764",
   "metadata": {},
   "outputs": [],
   "source": [
    "# Define the order for each ordinal feature\n",
    "\n",
    "education_order = ['High_School','Bachelors','Masters','PHD']\n",
    "product_quality_order = ['Low','Medium','High']\n",
    "satisfaction_order = ['Poor','Average','Good','Excellent']"
   ]
  },
  {
   "cell_type": "code",
   "execution_count": 15,
   "id": "8b7ac632-33e4-4644-ab36-58ab3034a911",
   "metadata": {},
   "outputs": [],
   "source": [
    "from sklearn.preprocessing import OrdinalEncoder"
   ]
  },
  {
   "cell_type": "code",
   "execution_count": 16,
   "id": "4c7f247a-92f2-40d5-b3fd-f8a1dc1c952e",
   "metadata": {},
   "outputs": [],
   "source": [
    "encoder = OrdinalEncoder(categories = [education_order,product_quality_order,satisfaction_order])"
   ]
  },
  {
   "cell_type": "code",
   "execution_count": 17,
   "id": "24ff24fc-1507-4c37-b6a6-6f5b68e2cb6f",
   "metadata": {},
   "outputs": [],
   "source": [
    "# Apply encoding (skip CustomerID as it is identifier) \n",
    "\n",
    "data[['Education_Level','Product_Quality','Satisfaction_Level']] = encoder.fit_transform(data[['Education_Level','Product_Quality','Satisfaction_Level']])\n"
   ]
  },
  {
   "cell_type": "code",
   "execution_count": null,
   "id": "b045cbd6-0f49-4d72-b339-b8b19a78aac7",
   "metadata": {},
   "outputs": [],
   "source": []
  }
 ],
 "metadata": {
  "kernelspec": {
   "display_name": "Python 3 (ipykernel)",
   "language": "python",
   "name": "python3"
  },
  "language_info": {
   "codemirror_mode": {
    "name": "ipython",
    "version": 3
   },
   "file_extension": ".py",
   "mimetype": "text/x-python",
   "name": "python",
   "nbconvert_exporter": "python",
   "pygments_lexer": "ipython3",
   "version": "3.12.7"
  }
 },
 "nbformat": 4,
 "nbformat_minor": 5
}
